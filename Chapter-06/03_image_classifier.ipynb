{
 "cells": [
  {
   "cell_type": "code",
   "execution_count": null,
   "metadata": {},
   "outputs": [],
   "source": [
    "!pip install tqdm bing-image-downloader --upgrade"
   ]
  },
  {
   "cell_type": "code",
   "execution_count": null,
   "metadata": {},
   "outputs": [],
   "source": [
    "import sagemaker\n",
    "import boto3\n",
    "import os\n",
    "import urllib.request\n",
    "import tarfile\n",
    "from tqdm import tqdm\n",
    "from sagemaker import get_execution_role\n",
    "\n",
    "role = get_execution_role()\n",
    "sess = sagemaker.Session()\n",
    "bucket = sess.default_bucket()\n",
    "prefix = \"AIMLwithAWS/Chapter5\"\n",
    "\n",
    "print(f'IAM Role: {role}')\n",
    "print(f'S3 Bucket {bucket}')"
   ]
  },
  {
   "cell_type": "code",
   "execution_count": null,
   "metadata": {},
   "outputs": [],
   "source": [
    "## Identify the SageMaker managed container for image classification\n",
    "training_image = sagemaker.image_uris.retrieve(\n",
    "    region=sess.boto_region_name, framework=\"image-classification\"\n",
    ")\n",
    "print(f'Container: {training_image}')"
   ]
  },
  {
   "cell_type": "code",
   "execution_count": null,
   "metadata": {
    "scrolled": true
   },
   "outputs": [],
   "source": [
    "## Download our data set from the sagemaker-sample-files bucket and expand (with a progress meter)\n",
    "def download(url):\n",
    "    filename = url.split(\"/\")[-1]\n",
    "    if not os.path.exists(filename):\n",
    "        urllib.request.urlretrieve(url, filename)\n",
    "\n",
    "s3 = boto3.client(\"s3\")\n",
    "s3.download_file(\n",
    "    \"sagemaker-sample-files\",\n",
    "    \"datasets/image/caltech-101/101_ObjectCategories.tar.gz\",\n",
    "    \"ObjectCategories.tar.gz\",\n",
    ")\n",
    "\n",
    "## This command can take ~3 minutes to finish\n",
    "with tarfile.open(name='ObjectCategories.tar.gz') as tar:\n",
    "    for member in tqdm(iterable=tar.getmembers(), total=len(tar.getmembers())):\n",
    "        tar.extract(member=member)\n",
    "\n",
    "## We can also download a provided script that we can use to convert images to RecordIO format\n",
    "download(\"https://raw.githubusercontent.com/apache/incubator-mxnet/master/tools/im2rec.py\")"
   ]
  },
  {
   "cell_type": "code",
   "execution_count": null,
   "metadata": {},
   "outputs": [],
   "source": [
    "## For the purposes of this example, we only use the first few categories\n",
    "!rm -f ./ObjectCategories/[c-z]*\n",
    "!rm -f ./ObjectCategories/[A-Z]*"
   ]
  },
  {
   "cell_type": "code",
   "execution_count": null,
   "metadata": {},
   "outputs": [],
   "source": [
    "%%bash\n",
    "\n",
    "mkdir -p caltech_101_train\n",
    "\n",
    "for i in 101_ObjectCategories/*; do\n",
    "    c=`basename $i`\n",
    "    mkdir -p caltech_101_train/$c\n",
    "    for j in `ls $i/*.jpg | shuf | head -n 30`; do\n",
    "        mv $j caltech_101_train/$c/\n",
    "    done\n",
    "done"
   ]
  },
  {
   "cell_type": "code",
   "execution_count": null,
   "metadata": {},
   "outputs": [],
   "source": [
    "!python im2rec.py --list --recursive caltech-101-train caltech_101_train/ | sort"
   ]
  },
  {
   "cell_type": "code",
   "execution_count": null,
   "metadata": {},
   "outputs": [],
   "source": [
    "!python im2rec.py --list --recursive caltech-101-val 101_ObjectCategories/ | sort"
   ]
  },
  {
   "cell_type": "code",
   "execution_count": null,
   "metadata": {},
   "outputs": [],
   "source": [
    "!head -n 3 ./caltech-101-train.lst > example.lst\n",
    "f = open(\"example.lst\", \"r\")\n",
    "lst_content = f.read()\n",
    "print(lst_content)"
   ]
  },
  {
   "cell_type": "code",
   "execution_count": null,
   "metadata": {},
   "outputs": [],
   "source": [
    "## Load our training and validation data to s3 so training and inference can access it\n",
    "\n",
    "s3train = \"s3://{}/{}/train/\".format(bucket, prefix)\n",
    "s3validation = \"s3://{}/{}/validation/\".format(bucket, prefix)\n",
    "s3train_lst = \"s3://{}/{}/train_lst/\".format(bucket, prefix)\n",
    "s3validation_lst = \"s3://{}/{}/validation_lst/\".format(bucket, prefix)\n",
    "\n",
    "!aws s3 cp caltech_101_train $s3train --recursive --quiet\n",
    "!aws s3 cp 101_ObjectCategories $s3validation --recursive --quiet\n",
    "\n",
    "!aws s3 cp caltech-101-train.lst $s3train_lst --quiet\n",
    "!aws s3 cp caltech-101-val.lst $s3validation_lst --quiet"
   ]
  },
  {
   "cell_type": "code",
   "execution_count": null,
   "metadata": {},
   "outputs": [],
   "source": [
    "!python im2rec.py --resize 256 --quality 90 --num-thread 16 caltech-101-val 101_ObjectCategories/\n",
    "!python im2rec.py --resize 256 --quality 90 --num-thread 16 caltech-101-train caltech_101_train/"
   ]
  },
  {
   "cell_type": "code",
   "execution_count": null,
   "metadata": {},
   "outputs": [],
   "source": [
    "## Create our estimator object\n",
    "\n",
    "s3_output_location = \"s3://{}/{}/output\".format(bucket, prefix)\n",
    "ic_estimator = sagemaker.estimator.Estimator(\n",
    "    training_image,\n",
    "    role,\n",
    "    instance_count=1,\n",
    "    instance_type=\"ml.p3.2xlarge\",\n",
    "    volume_size=50,\n",
    "    max_run=360000,\n",
    "    input_mode=\"File\",\n",
    "    output_path=s3_output_location,\n",
    "    sagemaker_session=sess,\n",
    "    num_classes=14,\n",
    ")"
   ]
  },
  {
   "cell_type": "code",
   "execution_count": null,
   "metadata": {},
   "outputs": [],
   "source": [
    "## Set the hyperparameters for our model\n",
    "\n",
    "ic_estimator.set_hyperparameters(\n",
    "    num_layers=18,\n",
    "    use_pretrained_model=1,\n",
    "    image_shape=\"3,224,224\", ##channels, height, width\n",
    "    num_classes=14,\n",
    "    mini_batch_size=128,\n",
    "    epochs=2,\n",
    "    learning_rate=0.01,\n",
    "    top_k=2,\n",
    "    num_training_samples=1174,\n",
    "    resize=256,\n",
    "    precision_dtype=\"float32\",\n",
    ")"
   ]
  },
  {
   "cell_type": "code",
   "execution_count": null,
   "metadata": {},
   "outputs": [],
   "source": [
    "train_data = sagemaker.inputs.TrainingInput(\n",
    "    s3train,\n",
    "    distribution=\"FullyReplicated\",\n",
    "    content_type=\"application/jpeg\",\n",
    "    s3_data_type=\"S3Prefix\",\n",
    ")\n",
    "validation_data = sagemaker.inputs.TrainingInput(\n",
    "    s3validation,\n",
    "    distribution=\"FullyReplicated\",\n",
    "    content_type=\"application/jpeg\",\n",
    "    s3_data_type=\"S3Prefix\",\n",
    ")\n",
    "train_data_lst = sagemaker.inputs.TrainingInput(\n",
    "    s3train_lst,\n",
    "    distribution=\"FullyReplicated\",\n",
    "    content_type=\"application/jpeg\",\n",
    "    s3_data_type=\"S3Prefix\",\n",
    ")\n",
    "validation_data_lst = sagemaker.inputs.TrainingInput(\n",
    "    s3validation_lst,\n",
    "    distribution=\"FullyReplicated\",\n",
    "    content_type=\"application/jpeg\",\n",
    "    s3_data_type=\"S3Prefix\",\n",
    ")\n",
    "\n",
    "data_types = {\n",
    "    \"train\": train_data,\n",
    "    \"validation\": validation_data,\n",
    "    \"train_lst\": train_data_lst,\n",
    "    \"validation_lst\": validation_data_lst,\n",
    "}"
   ]
  },
  {
   "cell_type": "code",
   "execution_count": null,
   "metadata": {},
   "outputs": [],
   "source": [
    "## This model requires GPU to train.  If you get an error saying that your service limit is 0 instances, \n",
    "## go to the quotas in your console and request a limit increase\n",
    "\n",
    "ic_estimator.fit(inputs=data_types, logs=True)"
   ]
  },
  {
   "cell_type": "code",
   "execution_count": null,
   "metadata": {},
   "outputs": [],
   "source": [
    "ic_classifier = ic_estimator.deploy(initial_instance_count=1, instance_type=\"ml.m5.xlarge\")"
   ]
  },
  {
   "cell_type": "code",
   "execution_count": null,
   "metadata": {},
   "outputs": [],
   "source": [
    "from bing_image_downloader import downloader\n",
    "downloader.download(\"buddha\", limit=1,  output_dir='test', adult_filter_off=False, force_replace=False, timeout=60, verbose=False)\n",
    "downloader.download(\"jet\", limit=1,  output_dir='test', adult_filter_off=False, force_replace=False, timeout=60, verbose=False)\n",
    "downloader.download(\"spaceship\", limit=1,  output_dir='test', adult_filter_off=False, force_replace=False, timeout=60, verbose=False)\n",
    "\n",
    "test1 = \"test/buddha/Image_1.jpg\"\n",
    "test2 = \"test/jet/Image_1.jpeg\"\n",
    "test3 = \"test/spaceship/Image_1.jpg\""
   ]
  },
  {
   "cell_type": "code",
   "execution_count": null,
   "metadata": {},
   "outputs": [],
   "source": [
    "import json\n",
    "import numpy as np\n",
    "from sagemaker.serializers import IdentitySerializer\n",
    "\n",
    "with open(test2, \"rb\") as f:\n",
    "    payload = f.read()\n",
    "\n",
    "ic_classifier.serializer = IdentitySerializer(\"image/jpeg\")\n",
    "result = json.loads(ic_classifier.predict(payload))\n",
    "\n",
    "index = np.argmax(result)\n",
    "\n",
    "object_categories = [\n",
    "    \"accordion\",\n",
    "    \"airplanes\",\n",
    "    \"anchor\",\n",
    "    \"ant\",\n",
    "    \"barrel\",\n",
    "    \"bass\",\n",
    "    \"beaver\",\n",
    "    \"binocular\",\n",
    "    \"bonsai\",\n",
    "    \"brain\",\n",
    "    \"brontosaurus\",\n",
    "    \"buddha\",\n",
    "    \"butterfly\",\n",
    "]\n",
    "print(\"Label: \" + object_categories[index] + \"\\nConfidence: \" + str(round(result[index], 2)))"
   ]
  },
  {
   "cell_type": "code",
   "execution_count": null,
   "metadata": {},
   "outputs": [],
   "source": [
    "## Remember to clean up resources when you are finishes\n",
    "ic_classifier.delete_endpoint()"
   ]
  }
 ],
 "metadata": {
  "instance_type": "ml.t3.medium",
  "interpreter": {
   "hash": "6a2af29df8917230ace40fb3f472bebe3ef6fb5646b91c1d02fbfd4c16f5fd19"
  },
  "kernelspec": {
   "display_name": "Python 3 (Data Science)",
   "language": "python",
   "name": "python3__SAGEMAKER_INTERNAL__arn:aws:sagemaker:us-east-1:081325390199:image/datascience-1.0"
  },
  "language_info": {
   "codemirror_mode": {
    "name": "ipython",
    "version": 3
   },
   "file_extension": ".py",
   "mimetype": "text/x-python",
   "name": "python",
   "nbconvert_exporter": "python",
   "pygments_lexer": "ipython3",
   "version": "3.7.10"
  }
 },
 "nbformat": 4,
 "nbformat_minor": 4
}
