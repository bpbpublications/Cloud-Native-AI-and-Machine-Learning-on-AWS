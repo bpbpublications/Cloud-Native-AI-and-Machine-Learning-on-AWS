{
 "cells": [
  {
   "cell_type": "markdown",
   "metadata": {},
   "source": [
    "### Update scikit learn package"
   ]
  },
  {
   "cell_type": "code",
   "execution_count": null,
   "metadata": {},
   "outputs": [],
   "source": [
    "!pip install -U scikit-learn"
   ]
  },
  {
   "cell_type": "markdown",
   "metadata": {},
   "source": [
    "#### Please restart kernel from the Kernel menu at the top of the page before proceeding"
   ]
  },
  {
   "cell_type": "code",
   "execution_count": null,
   "metadata": {},
   "outputs": [],
   "source": [
    "# Lets use the Python image processing Pillow library\n",
    "from PIL import Image\n",
    "img = Image.open('puppy-image.jpg')\n",
    "display(img)"
   ]
  },
  {
   "cell_type": "code",
   "execution_count": null,
   "metadata": {},
   "outputs": [],
   "source": [
    "# Print the size of the image as width, height\n",
    "img.size"
   ]
  },
  {
   "cell_type": "markdown",
   "metadata": {},
   "source": [
    "### Resize Images"
   ]
  },
  {
   "cell_type": "code",
   "execution_count": 2,
   "metadata": {},
   "outputs": [
    {
     "name": "stdout",
     "output_type": "stream",
     "text": [
      "(1920, 1280)\n",
      "(600, 400)\n"
     ]
    }
   ],
   "source": [
    "# Resize the image to a smaller size\n",
    "img_smaller = img.resize((600, 400))\n",
    "img_smaller.save('puppy_image_small.jpg')\n",
    "\n",
    "print(img.size)\n",
    "print(img_smaller.size)"
   ]
  },
  {
   "cell_type": "code",
   "execution_count": null,
   "metadata": {},
   "outputs": [],
   "source": [
    "display(img_smaller)"
   ]
  },
  {
   "cell_type": "code",
   "execution_count": null,
   "metadata": {},
   "outputs": [],
   "source": [
    "# Get the pixel values from the image\n",
    "width, height = img.size\n",
    "pixels = {'R':[],'G':[],'B':[]}\n",
    "# Let us now get the RGB value for each pixel position\n",
    "for w in range(1,width):\n",
    "    for h in range(1, height):\n",
    "        pixpos = img.getpixel(((w,h)))\n",
    "        pixels['R'].append(pixpos[0])\n",
    "        pixels['G'].append(pixpos[1])\n",
    "        pixels['B'].append(pixpos[2])"
   ]
  },
  {
   "cell_type": "code",
   "execution_count": null,
   "metadata": {},
   "outputs": [],
   "source": [
    "# Print the first 5 pixels in the first width position and up to 10 pixels height\n",
    "for i in range(1,6):\n",
    "    print(\"R: \"+str(pixels['R'][i])+' '+\"G: \"+str(pixels['G'][i])+' '+\"B: \"+str(pixels['B'][i])+' ')"
   ]
  },
  {
   "cell_type": "code",
   "execution_count": null,
   "metadata": {},
   "outputs": [],
   "source": [
    "# How many pixels do we have?\n",
    "len(pixels['R'])"
   ]
  },
  {
   "cell_type": "code",
   "execution_count": null,
   "metadata": {},
   "outputs": [],
   "source": [
    "# Get the pixel values from the smaller image\n",
    "width, height = img_smaller.size\n",
    "pixels = {'R':[],'G':[],'B':[]}\n",
    "# Let us now get the RGB value for each pixel position\n",
    "for w in range(1,width):\n",
    "    for h in range(1, height):\n",
    "        pixpos = img.getpixel(((w,h)))\n",
    "        pixels['R'].append(pixpos[0])\n",
    "        pixels['G'].append(pixpos[1])\n",
    "        pixels['B'].append(pixpos[2])"
   ]
  },
  {
   "cell_type": "code",
   "execution_count": null,
   "metadata": {},
   "outputs": [],
   "source": [
    "# How many pixels do we have?\n",
    "len(pixels['R'])"
   ]
  },
  {
   "cell_type": "markdown",
   "metadata": {},
   "source": [
    "### Cropping Images"
   ]
  },
  {
   "cell_type": "code",
   "execution_count": null,
   "metadata": {},
   "outputs": [],
   "source": [
    "# Cropping and tiling our image\n",
    "# define cropping coordinates\n",
    "crop_coord = (130,75,460,350)\n",
    "# crop the image\n",
    "img_cropped = img_smaller.crop(crop_coord)\n",
    "display(img_cropped)"
   ]
  },
  {
   "cell_type": "code",
   "execution_count": null,
   "metadata": {},
   "outputs": [],
   "source": [
    "# Get the pixel values from the smaller image\n",
    "width, height = img_cropped.size\n",
    "pixels = {'R':[],'G':[],'B':[]}\n",
    "# Let us now get the RGB value for each pixel position\n",
    "for w in range(1,width):\n",
    "    for h in range(1, height):\n",
    "        pixpos = img.getpixel(((w,h)))\n",
    "        pixels['R'].append(pixpos[0])\n",
    "        pixels['G'].append(pixpos[1])\n",
    "        pixels['B'].append(pixpos[2])"
   ]
  },
  {
   "cell_type": "code",
   "execution_count": null,
   "metadata": {},
   "outputs": [],
   "source": [
    "# How many pixels do we have?\n",
    "len(pixels['R'])"
   ]
  },
  {
   "cell_type": "markdown",
   "metadata": {},
   "source": [
    "### Tiling our image"
   ]
  },
  {
   "cell_type": "code",
   "execution_count": null,
   "metadata": {},
   "outputs": [],
   "source": [
    "# make a folder called tiles\n",
    "!mkdir tiles"
   ]
  },
  {
   "cell_type": "code",
   "execution_count": null,
   "metadata": {},
   "outputs": [],
   "source": [
    "# We will now use the crop function to create multiple tiles of our image\n",
    "import math\n",
    "# get the dimensions of the input image - we are using the resize image for this example\n",
    "w, h = img_smaller.size\n",
    "# How many images do we want? Feel free to change this value but it should be a perfect squared number\n",
    "# And the width and height of the input image must be divisible by this square root\n",
    "tiles = 16\n",
    "divisor = int(math.sqrt(tiles))\n",
    "\n",
    "left_pixel = 0\n",
    "top_pixel = 0\n",
    "right_pixel = w/divisor\n",
    "bottom_pixel = h/divisor\n",
    "# traverse from the left to right of the image or traverse through the columns\n",
    "for i in range(divisor):\n",
    "    if right_pixel <= w:\n",
    "        # tiling position to attach to the image name referring to the row and column number \n",
    "        # such as puppy_tiled_r0_c1.jpg, puppy_tiled_r0_c2.jpg... \n",
    "        top_pixel = 0\n",
    "        # initialize to first row here\n",
    "        j = 0\n",
    "        bottom_pixel = h/divisor\n",
    "        #print(\"Column traversal: \" + \"left is: \" + str(left_pixel) + \"top is : \" + str(top_pixel) + \"right is : \" + str(right_pixel) + \"bottom is : \" + str(bottom_pixel))\n",
    "        tiled_img = img_smaller.crop((left_pixel, top_pixel, right_pixel, bottom_pixel)) \n",
    "        tiled_img.save('tiles/puppy_tiled_' + 'r'+str(j) + '_c'+str(i) +\".jpg\")\n",
    "        # now traverse down the height of the image - traverse through the rows for each column\n",
    "        for j in range(1,divisor):\n",
    "            top_pixel += h/divisor\n",
    "            bottom_pixel += h/divisor\n",
    "            if bottom_pixel <= h:    \n",
    "                #print(\"Row traversal:  \" + \"left is: \" + str(left_pixel) + \"top is : \" + str(top_pixel) + \"right is : \" + str(right_pixel) + \"bottom is : \" + str(bottom_pixel))\n",
    "                tiled_img = img_smaller.crop((left_pixel, top_pixel, right_pixel, bottom_pixel)) \n",
    "                tiled_img.save('tiles/puppy_tiled_' + 'r'+str(j) + '_c'+str(i) +\".jpg\")\n",
    "        # increment pixel positions\n",
    "        left_pixel += w/divisor\n",
    "        right_pixel += w/divisor"
   ]
  },
  {
   "cell_type": "markdown",
   "metadata": {},
   "source": [
    "#### Display the tiles"
   ]
  },
  {
   "cell_type": "code",
   "execution_count": null,
   "metadata": {},
   "outputs": [],
   "source": [
    "# Lets use matplot lib to display the tiled images \n",
    "import os\n",
    "import matplotlib.pyplot as plt\n",
    "images = []\n",
    "\n",
    "for tile in sorted(os.listdir('./tiles')):\n",
    "    if tile.endswith(\".jpg\"):\n",
    "        images.append(plt.imread('./tiles/'+tile))\n",
    "\n",
    "f, pltarr = plt.subplots(divisor, divisor, figsize=(12,8))\n",
    "\n",
    "for j, row in enumerate(pltarr):\n",
    "    for i, axis in enumerate(row):\n",
    "        axis.imshow(images[j*divisor+i])\n",
    "        axis.set_title(f'tile {j*divisor+i+1}')\n",
    "\n",
    "title = 'Puppy tiled images'\n",
    "f.suptitle(title, fontsize=16)\n",
    "plt.show() "
   ]
  },
  {
   "cell_type": "markdown",
   "metadata": {},
   "source": [
    "### Rotating images"
   ]
  },
  {
   "cell_type": "code",
   "execution_count": null,
   "metadata": {},
   "outputs": [],
   "source": [
    "# rotate images to various angles \n",
    "angles = [45,90,180,225]\n",
    "for angle in angles:\n",
    "    display(img_smaller.rotate(angle))"
   ]
  },
  {
   "cell_type": "markdown",
   "metadata": {},
   "source": [
    "### Convert to Grayscale"
   ]
  },
  {
   "cell_type": "code",
   "execution_count": null,
   "metadata": {},
   "outputs": [],
   "source": [
    "# Convert image to gray scale aka black and white\n",
    "gray_img = img_smaller.convert('L')\n",
    "display(gray_img)"
   ]
  },
  {
   "cell_type": "markdown",
   "metadata": {},
   "source": [
    "### Convert to RecordIo"
   ]
  },
  {
   "cell_type": "code",
   "execution_count": null,
   "metadata": {},
   "outputs": [],
   "source": [
    "# first install mxnet. You can also use a kernel that has MXNet already installed - select a kernel from the top right of SageMaker Studio\n",
    "!pip install mxnet"
   ]
  },
  {
   "cell_type": "code",
   "execution_count": null,
   "metadata": {},
   "outputs": [],
   "source": [
    "# we have to install opencv package for recordIo conversion\n",
    "!pip install opencv-python-headless"
   ]
  },
  {
   "cell_type": "code",
   "execution_count": null,
   "metadata": {},
   "outputs": [],
   "source": [
    "# Download a copy of the im2rec python file we need\n",
    "!curl -O https://raw.githubusercontent.com/apache/incubator-mxnet/master/tools/im2rec.py"
   ]
  },
  {
   "cell_type": "code",
   "execution_count": null,
   "metadata": {},
   "outputs": [],
   "source": [
    "# create a folder to label our tiled puppy images as labrador class\n",
    "!mkdir tiles/labrador"
   ]
  },
  {
   "cell_type": "code",
   "execution_count": null,
   "metadata": {},
   "outputs": [],
   "source": [
    "# move the images to the labrador folder\n",
    "!mv tiles/*.jpg tiles/labrador"
   ]
  },
  {
   "cell_type": "code",
   "execution_count": null,
   "metadata": {},
   "outputs": [],
   "source": [
    "# create a RecordIO list file to indicate the label for the images\n",
    "!python im2rec.py ./puppy ./tiles/ --recursive --list"
   ]
  },
  {
   "cell_type": "code",
   "execution_count": null,
   "metadata": {},
   "outputs": [],
   "source": [
    "# now generate the recordIO file for our images which will be the input for training\n",
    "!python im2rec.py ./puppy ./tiles/ --recursive --pass-through --pack-label"
   ]
  },
  {
   "cell_type": "code",
   "execution_count": null,
   "metadata": {},
   "outputs": [],
   "source": [
    "#you should see a puppy.rec file and a puppy.idx file created which are inputs to your training\n",
    "!ls -lt puppy*"
   ]
  },
  {
   "cell_type": "markdown",
   "metadata": {},
   "source": [
    "### Principal Component Analysis"
   ]
  },
  {
   "cell_type": "code",
   "execution_count": 3,
   "metadata": {},
   "outputs": [
    {
     "data": {
      "text/plain": [
       "(240000, 3)"
      ]
     },
     "execution_count": 3,
     "metadata": {},
     "output_type": "execute_result"
    }
   ],
   "source": [
    "# We need a numpy array of our image to get started. Import numpy first\n",
    "import numpy as np\n",
    "# Let us convert our grayscale image to a transposed numpy array first\n",
    "seq = img_smaller.getdata()\n",
    "img_pix_array = np.array(seq)\n",
    "img_pix_array.shape"
   ]
  },
  {
   "cell_type": "code",
   "execution_count": 4,
   "metadata": {},
   "outputs": [
    {
     "data": {
      "text/plain": [
       "PCA(n_components=3)"
      ]
     },
     "execution_count": 4,
     "metadata": {},
     "output_type": "execute_result"
    }
   ],
   "source": [
    "# Let us use Scikit learn PCA to see the variability with all 3 features\n",
    "from sklearn.decomposition import PCA\n",
    "pca_3 = PCA(n_components=3)\n",
    "pca_3.fit(img_pix_array)"
   ]
  },
  {
   "cell_type": "code",
   "execution_count": 5,
   "metadata": {},
   "outputs": [
    {
     "name": "stdout",
     "output_type": "stream",
     "text": [
      "[94.97632805  4.43190176  0.59177018]\n"
     ]
    }
   ],
   "source": [
    "print(pca_3.explained_variance_ratio_ *100)"
   ]
  },
  {
   "cell_type": "code",
   "execution_count": null,
   "metadata": {},
   "outputs": [],
   "source": [
    "# Component 1 accounts for 95% variability and is sufficient for us. We will use number of components as 1 and run the transform\n",
    "from sklearn.decomposition import PCA\n",
    "pca_1 = PCA(n_components=1)\n",
    "pca_1.fit(img_pix_array)\n",
    "img_reduced = pca_1.transform(img_pix_array)\n",
    "img_reduced.shape"
   ]
  },
  {
   "cell_type": "code",
   "execution_count": null,
   "metadata": {},
   "outputs": [],
   "source": [
    "print(img_reduced[0])"
   ]
  },
  {
   "cell_type": "markdown",
   "metadata": {},
   "source": [
    "### END OF NOTEBOOK\n",
    "Please go back to the Chapter 03 in the book for next steps"
   ]
  }
 ],
 "metadata": {
  "instance_type": "ml.t3.medium",
  "kernelspec": {
   "display_name": "Python 3 (Data Science)",
   "language": "python",
   "name": "python3__SAGEMAKER_INTERNAL__arn:aws:sagemaker:us-east-1:081325390199:image/datascience-1.0"
  },
  "language_info": {
   "codemirror_mode": {
    "name": "ipython",
    "version": 3
   },
   "file_extension": ".py",
   "mimetype": "text/x-python",
   "name": "python",
   "nbconvert_exporter": "python",
   "pygments_lexer": "ipython3",
   "version": "3.7.6"
  }
 },
 "nbformat": 4,
 "nbformat_minor": 4
}
