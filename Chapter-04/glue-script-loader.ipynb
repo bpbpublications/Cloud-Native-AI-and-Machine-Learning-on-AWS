{
 "cells": [
  {
   "cell_type": "code",
   "execution_count": 25,
   "metadata": {},
   "outputs": [],
   "source": [
    "# import the boto3 python SDK for AWS\n",
    "import boto3\n",
    "# declare the S3 handle to create prefixes and load our files\n",
    "s3 = boto3.client('s3')\n",
    "# declare variables\n",
    "bucket = 'enter your bucket name here'\n",
    "prefix = 'aiml-book/chapter4/'"
   ]
  },
  {
   "cell_type": "code",
   "execution_count": 22,
   "metadata": {},
   "outputs": [
    {
     "name": "stdout",
     "output_type": "stream",
     "text": [
      "please copy these s3 file locations for AWS Glue job creation\n",
      "Libraries - Python library path: s3://a2i-experiments/aiml-book/chapter4/awswrangler-2.14.0-py3-none-any.whl\n",
      "Libraries - Referenced files path: s3://a2i-experiments/aiml-book/chapter4/category_encoders-2.4.0-py2.py3-none-any.whl\n"
     ]
    }
   ],
   "source": [
    "# upload the wheel files required by Glue to S3 bucket\n",
    "ce_wheel = 'category_encoders-2.4.0-py2.py3-none-any.whl'\n",
    "wr_wheel = 'awswrangler-2.14.0-py3-none-any.whl'\n",
    "s3.upload_file(ce_wheel,bucket,prefix+ce_wheel)\n",
    "s3.upload_file(wr_wheel,bucket,prefix+wr_wheel)\n",
    "print(\"please copy these s3 file locations for AWS Glue job creation\")\n",
    "print(\"Libraries - Python library path: \" + \"s3://\"+bucket+'/'+prefix+wr_wheel)\n",
    "print(\"Libraries - Referenced files path: \" + \"s3://\"+bucket+'/'+prefix+ce_wheel)"
   ]
  },
  {
   "cell_type": "markdown",
   "metadata": {},
   "source": [
    "### IMPORTANT - DO NOT EXECUTE CELLS BELOW UNTIL INSTRUCTED\n",
    "Please execute the cells below only when you are instructed to do so in the book"
   ]
  },
  {
   "cell_type": "code",
   "execution_count": 26,
   "metadata": {},
   "outputs": [],
   "source": [
    "# upload csv file for testing the end to end solution\n",
    "infile = 'winemag-data_first150k.csv'\n",
    "s3.upload_file(infile,bucket,prefix+'glue-in/'+infile)"
   ]
  }
 ],
 "metadata": {
  "instance_type": "ml.t3.medium",
  "kernelspec": {
   "display_name": "Python 3 (MXNet 1.8 Python 3.7 CPU Optimized)",
   "language": "python",
   "name": "python3__SAGEMAKER_INTERNAL__arn:aws:sagemaker:us-east-1:081325390199:image/mxnet-1.8-cpu-py37-ubuntu16.04-v1"
  },
  "language_info": {
   "codemirror_mode": {
    "name": "ipython",
    "version": 3
   },
   "file_extension": ".py",
   "mimetype": "text/x-python",
   "name": "python",
   "nbconvert_exporter": "python",
   "pygments_lexer": "ipython3",
   "version": "3.7.10"
  }
 },
 "nbformat": 4,
 "nbformat_minor": 4
}
